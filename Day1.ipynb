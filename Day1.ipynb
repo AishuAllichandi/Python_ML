{
  "nbformat": 4,
  "nbformat_minor": 0,
  "metadata": {
    "colab": {
      "provenance": []
    },
    "kernelspec": {
      "name": "python3",
      "display_name": "Python 3"
    },
    "language_info": {
      "name": "python"
    }
  },
  "cells": [
    {
      "cell_type": "code",
      "execution_count": null,
      "metadata": {
        "colab": {
          "base_uri": "https://localhost:8080/"
        },
        "id": "tVZq9H2uyLtl",
        "outputId": "68202393-5492-4587-9791-6c8f0413e93b"
      },
      "outputs": [
        {
          "output_type": "stream",
          "name": "stdout",
          "text": [
            "hello, world!\n",
            "Name is Queen\n",
            "Name is queen\n"
          ]
        }
      ],
      "source": [
        "print(\"hello, world!\") #function call\n",
        "x = 5 #variable assignment\n",
        "y = 10 #no need to declare variable\n",
        "\n",
        "Name= \"Queen\"\n",
        "name= \"queen\"\n",
        "print(\"Name is\", Name)\n",
        "print(\"Name is\", name)\n",
        "\n"
      ]
    },
    {
      "cell_type": "code",
      "source": [],
      "metadata": {
        "id": "dVrn7Y8NWlkT"
      },
      "execution_count": null,
      "outputs": []
    },
    {
      "cell_type": "markdown",
      "source": [
        "Indentation"
      ],
      "metadata": {
        "id": "ce0g1mCL72Yt"
      }
    },
    {
      "cell_type": "code",
      "source": [
        "n=5\n",
        "if n > 0:\n",
        "  print( \"positive integer\")\n"
      ],
      "metadata": {
        "colab": {
          "base_uri": "https://localhost:8080/"
        },
        "id": "8wh4zvFa756Y",
        "outputId": "74d762d0-d4db-411f-e737-d55e78e5ba07"
      },
      "execution_count": null,
      "outputs": [
        {
          "output_type": "stream",
          "name": "stdout",
          "text": [
            "positive integer\n"
          ]
        }
      ]
    },
    {
      "cell_type": "markdown",
      "source": [
        "variables and datatypes"
      ],
      "metadata": {
        "id": "gs7ANtB38o-4"
      }
    },
    {
      "cell_type": "markdown",
      "source": [
        "numeric types"
      ],
      "metadata": {
        "id": "O3qTge7m8zM0"
      }
    },
    {
      "cell_type": "code",
      "source": [
        "age = 20 #int\n",
        "height= 5.6 #float\n"
      ],
      "metadata": {
        "id": "QycZ7BVY81T9"
      },
      "execution_count": null,
      "outputs": []
    },
    {
      "cell_type": "markdown",
      "source": [
        "String types"
      ],
      "metadata": {
        "id": "a93P3HGm9lYx"
      }
    },
    {
      "cell_type": "code",
      "source": [
        "name = \"Queen\"\n",
        "message = 'Hello World!!!'\n",
        "multiline = \"\"\"This is a\n",
        "multiline string\"\"\"\n",
        "\n",
        "print(\"name is\", name)\n",
        "print(\"message\", message)"
      ],
      "metadata": {
        "colab": {
          "base_uri": "https://localhost:8080/"
        },
        "id": "1hpuKTQV9oWq",
        "outputId": "6c87907a-719c-4a3f-ce48-259046751e27"
      },
      "execution_count": null,
      "outputs": [
        {
          "output_type": "stream",
          "name": "stdout",
          "text": [
            "name is Queen\n",
            "message Hello World!!!\n"
          ]
        }
      ]
    },
    {
      "cell_type": "markdown",
      "source": [
        "boolean type"
      ],
      "metadata": {
        "id": "36eUWe1R9v3I"
      }
    },
    {
      "cell_type": "code",
      "source": [
        "is_activate = True\n",
        "is_finished = False\n",
        "\n"
      ],
      "metadata": {
        "id": "9WgSbhBA9yJQ"
      },
      "execution_count": null,
      "outputs": []
    },
    {
      "cell_type": "markdown",
      "source": [
        "Type Checking"
      ],
      "metadata": {
        "id": "Atw64AMW-LJB"
      }
    },
    {
      "cell_type": "code",
      "source": [
        "print(type(age))\n",
        "print(type(height))\n",
        "print(type(name))\n",
        "print(type(Name))"
      ],
      "metadata": {
        "colab": {
          "base_uri": "https://localhost:8080/"
        },
        "id": "OM2tPAaE-OVI",
        "outputId": "cfcb18ef-91a3-46ed-9054-2f15b39350a1"
      },
      "execution_count": null,
      "outputs": [
        {
          "output_type": "stream",
          "name": "stdout",
          "text": [
            "<class 'int'>\n",
            "<class 'float'>\n",
            "<class 'str'>\n",
            "<class 'str'>\n"
          ]
        }
      ]
    },
    {
      "cell_type": "markdown",
      "source": [
        "Type Converasion"
      ],
      "metadata": {
        "id": "SSfxsDFR_kGv"
      }
    },
    {
      "cell_type": "code",
      "source": [
        "str_num =\"919\"\n",
        "int_num = int(str_num)\n",
        "float_num= float(str_num)\n",
        "\n",
        "print(f\" Original: {str_num} (type: {type(str_num)})\")\n",
        "print(f\"Integer: {int_num} (type: {type(int_num)})\")\n",
        "print(f\"Float: {float_num} (type: {type(float_num)})\")"
      ],
      "metadata": {
        "colab": {
          "base_uri": "https://localhost:8080/"
        },
        "id": "pRSxREUl_mnZ",
        "outputId": "2c858df1-c4d0-4f40-e909-49a08c91f7b3"
      },
      "execution_count": null,
      "outputs": [
        {
          "output_type": "stream",
          "name": "stdout",
          "text": [
            " Original: 919 (type: <class 'str'>)\n",
            "Integer: 919 (type: <class 'int'>)\n",
            "Float: 919.0 (type: <class 'float'>)\n"
          ]
        }
      ]
    },
    {
      "cell_type": "markdown",
      "source": [
        "create variables for personal information"
      ],
      "metadata": {
        "id": "b95dhkrjIUmO"
      }
    },
    {
      "cell_type": "code",
      "source": [
        "first_name =\"Queen\"\n",
        "last_name = \"kolhar\"\n",
        "age = 20\n",
        "height = 5.6\n",
        "is_student = True"
      ],
      "metadata": {
        "id": "ortVqH3KIfBG"
      },
      "execution_count": null,
      "outputs": []
    },
    {
      "cell_type": "markdown",
      "source": [
        " Print formatted information"
      ],
      "metadata": {
        "id": "LULtj1nWI7vG"
      }
    },
    {
      "cell_type": "code",
      "source": [
        "print(f\"name: {first_name} {last_name}\")\n",
        "print(f\"age: {age}\")\n",
        "print(f\"height is {height}\")\n",
        "print(f\"Student {is_student}\")"
      ],
      "metadata": {
        "colab": {
          "base_uri": "https://localhost:8080/"
        },
        "id": "KBrPl-VgJCav",
        "outputId": "5f8a40f7-7a98-4f2a-cda4-607c63f13dff"
      },
      "execution_count": null,
      "outputs": [
        {
          "output_type": "stream",
          "name": "stdout",
          "text": [
            "name: Queen kolhar\n",
            "age: 20\n",
            "height is 5.6\n",
            "Student True\n"
          ]
        }
      ]
    },
    {
      "cell_type": "code",
      "source": [],
      "metadata": {
        "id": "yuNsbBGYKQch"
      },
      "execution_count": null,
      "outputs": []
    },
    {
      "cell_type": "markdown",
      "source": [
        "Type converstions"
      ],
      "metadata": {
        "id": "rQJJcOkYJgvq"
      }
    },
    {
      "cell_type": "code",
      "source": [
        "age_str = str(age)\n",
        "height_str= str(height)\n",
        "height_int = int(height)\n",
        "print(f\"age as str: {age_str}\")\n",
        "print(f\"height as str {height_str}\")\n",
        "print(f\"height as integer {height_int}\")"
      ],
      "metadata": {
        "colab": {
          "base_uri": "https://localhost:8080/"
        },
        "id": "0ELBcZvBJjeG",
        "outputId": "0d3ad6cc-3e7f-4d88-fe9b-90e253c51843"
      },
      "execution_count": null,
      "outputs": [
        {
          "output_type": "stream",
          "name": "stdout",
          "text": [
            "age as str: 20\n",
            "height as str 5.6\n",
            "height as integer 5\n"
          ]
        }
      ]
    },
    {
      "cell_type": "markdown",
      "source": [
        "Operators and Basic operations"
      ],
      "metadata": {
        "id": "wXWQ4CO4Kmdn"
      }
    },
    {
      "cell_type": "markdown",
      "source": [
        "arithmatic Operation"
      ],
      "metadata": {
        "id": "e3tLeUrkKqfY"
      }
    },
    {
      "cell_type": "code",
      "source": [
        "p = 5\n",
        "q = 2\n",
        "print(f\"addition: {p} + {q} = {p+q}\")\n",
        "print(f\"substraction: {p} - {q} = {p-q}\")\n",
        "print(f\"multiflication : {p} * {q} = {p*q}\")\n",
        "print(f\"Division: {p} / {q} = {p/q}\")\n",
        "print(f\"Floor Division: {p} // {q} = {p//q}\")\n",
        "print(f\"modulous: {p} % {q} = {p % q}\")\n",
        "print(f\"Exponential: {p} ** {q} = {p ** q}\")\n"
      ],
      "metadata": {
        "colab": {
          "base_uri": "https://localhost:8080/"
        },
        "id": "ciadj3LBKt4S",
        "outputId": "36ed17af-89d3-449a-b77d-bb30fedf7aa8"
      },
      "execution_count": null,
      "outputs": [
        {
          "output_type": "stream",
          "name": "stdout",
          "text": [
            "addition: 5 + 2 = 7\n",
            "substraction: 5 - 2 = 3\n",
            "multiflication : 5 * 2 = 10\n",
            "Division: 5 / 2 = 2.5\n",
            "Floor Division: 5 // 2 = 2\n",
            "modulous: 5 % 2 = 1\n",
            "Exponential: 5 ** 2 = 25\n"
          ]
        }
      ]
    },
    {
      "cell_type": "markdown",
      "source": [
        "Order of operations"
      ],
      "metadata": {
        "id": "YQk78q_pMAwq"
      }
    },
    {
      "cell_type": "code",
      "source": [
        "result = 2+4**2*2-1+2\n",
        "print(f\"2+4**5*2-1+2 = {result}\")"
      ],
      "metadata": {
        "colab": {
          "base_uri": "https://localhost:8080/"
        },
        "id": "kGLjPKa2MDp_",
        "outputId": "0bf1a23a-bf37-4cde-e569-b00fd1cceabc"
      },
      "execution_count": null,
      "outputs": [
        {
          "output_type": "stream",
          "name": "stdout",
          "text": [
            "2+4**5*2-1+2 = 35\n"
          ]
        }
      ]
    },
    {
      "cell_type": "markdown",
      "source": [
        "String Comparision"
      ],
      "metadata": {
        "id": "0_CPB2lFMgxa"
      }
    },
    {
      "cell_type": "code",
      "source": [
        "name1 =\"Raja\"\n",
        "name2 =\"Queen\"\n",
        "print(f\" '{name1}' > '{name2}' : {name1 > name2}\")"
      ],
      "metadata": {
        "colab": {
          "base_uri": "https://localhost:8080/"
        },
        "id": "ILumrTr9MjGv",
        "outputId": "40cc3bba-0d13-439e-9512-2dee8a193245"
      },
      "execution_count": null,
      "outputs": [
        {
          "output_type": "stream",
          "name": "stdout",
          "text": [
            " 'Raja' > 'Queen' : True\n"
          ]
        }
      ]
    },
    {
      "cell_type": "markdown",
      "source": [
        "Logical operations"
      ],
      "metadata": {
        "id": "KIlF9M3pNVlh"
      }
    },
    {
      "cell_type": "code",
      "source": [
        "x = True\n",
        "y = False\n",
        "print(f\"{x and y}\")\n",
        "print(f\"{x or y}\")\n",
        "print(f\"{not y}\")"
      ],
      "metadata": {
        "colab": {
          "base_uri": "https://localhost:8080/"
        },
        "id": "lOEGwejINYPz",
        "outputId": "9cf47a76-40af-4425-f615-7b23a2eeb572"
      },
      "execution_count": null,
      "outputs": [
        {
          "output_type": "stream",
          "name": "stdout",
          "text": [
            "False\n",
            "True\n",
            "True\n"
          ]
        }
      ]
    },
    {
      "cell_type": "markdown",
      "source": [
        "practice example"
      ],
      "metadata": {
        "id": "501yoxFMN9bm"
      }
    },
    {
      "cell_type": "code",
      "source": [
        "age = 20\n",
        "has_license = True\n",
        "result = age >=18 and has_license\n",
        "print(f\"can drive : {result}\")"
      ],
      "metadata": {
        "colab": {
          "base_uri": "https://localhost:8080/"
        },
        "id": "-o5oAy-YN_8L",
        "outputId": "bdeb0d00-0135-4620-9bd2-4d42fac977cb"
      },
      "execution_count": null,
      "outputs": [
        {
          "output_type": "stream",
          "name": "stdout",
          "text": [
            "can drive : True\n"
          ]
        }
      ]
    },
    {
      "cell_type": "markdown",
      "source": [
        "exercise 2: simple calculation"
      ],
      "metadata": {
        "id": "NSlNLlRUPtO0"
      }
    },
    {
      "cell_type": "code",
      "source": [
        "def add(a,b):\n",
        "  return a+b\n",
        "def sub(a,b):\n",
        "  return a-b\n",
        "def mul(a,b):\n",
        "  return a*b\n",
        "\n",
        "print(f\"addition : {add(10,5)}\")\n",
        "print(f\"substrction: {sub(10,5)}\")\n",
        "print(f\"multiplication : {mul(10,5)}\")\n",
        "\n",
        "\n",
        "\n",
        "\n",
        "\n"
      ],
      "metadata": {
        "colab": {
          "base_uri": "https://localhost:8080/"
        },
        "id": "eH_p44NwPwy9",
        "outputId": "cc425618-9929-4abe-9b81-1564e80f5d4a"
      },
      "execution_count": null,
      "outputs": [
        {
          "output_type": "stream",
          "name": "stdout",
          "text": [
            "addition : 15\n",
            "substrction: 5\n",
            "multiplication : 50\n",
            "{'SQL', 'JavaScript'}\n",
            "{'SQL', 'React', 'R', 'JavaScript', 'Python', 'p'}\n",
            "{'Python', 'React'}\n"
          ]
        }
      ]
    },
    {
      "cell_type": "markdown",
      "source": [
        "variable lenght arguments"
      ],
      "metadata": {
        "id": "O3Bh_dpssKEe"
      }
    },
    {
      "cell_type": "code",
      "source": [
        "def var_arguments(*numbers):\n",
        "  if not numbers:\n",
        "    return 0\n",
        "    return sum(numbers) / len(numbers)\n",
        "\n",
        "avg1 = var_arguments(10,2,4)\n",
        "print(f\"average is {avg1}\")"
      ],
      "metadata": {
        "colab": {
          "base_uri": "https://localhost:8080/"
        },
        "id": "ZTV8oKaksNwt",
        "outputId": "4b93848f-e16b-4da0-e639-fa0e32bf5c33"
      },
      "execution_count": null,
      "outputs": [
        {
          "output_type": "stream",
          "name": "stdout",
          "text": [
            "average is None\n"
          ]
        }
      ]
    },
    {
      "cell_type": "markdown",
      "source": [
        "Lambda function"
      ],
      "metadata": {
        "id": "lfxWHig9t_LQ"
      }
    },
    {
      "cell_type": "code",
      "source": [
        "lambda1 = lambda x , y: x if x >= y else y\n",
        "print(f\"maximum function is {lambda1(5,2)} \")"
      ],
      "metadata": {
        "colab": {
          "base_uri": "https://localhost:8080/"
        },
        "id": "D-YHm1sGuDLB",
        "outputId": "d6c47838-a4f5-4e59-fc51-e6462a65b240"
      },
      "execution_count": null,
      "outputs": [
        {
          "output_type": "stream",
          "name": "stdout",
          "text": [
            "maximum function is 5 \n"
          ]
        }
      ]
    },
    {
      "cell_type": "markdown",
      "source": [
        "lambda function with built in fuctions"
      ],
      "metadata": {
        "id": "tNXo36rkvDwb"
      }
    },
    {
      "cell_type": "code",
      "source": [
        "lambda_fun = [10,25 ,30,40,50]\n",
        "print(list(map(lambda x:x%2, lambda_fun)))\n",
        "\n",
        "\n",
        "ages = [12,76,83,43]\n",
        "adults = list(filter(lambda age:age >=18 , ages))\n",
        "print(f\"Adult ages: {adults}\")\n",
        "\n",
        "\n",
        "people = [\n",
        "\n",
        "        {\"name\": \"queen\", \"age\":10},\n",
        "        {\"name\": \"rani\" ,\"age\":18},\n",
        "        {\"name\": \"gagan\", \"age\":16}\n",
        "]\n",
        "\n",
        "sort_people= sorted(people, key=lambda person: person[\"name\"] )\n",
        "print(\"people sorted by names\")\n",
        "\n",
        "for person in sort_people:\n",
        "  print(f\"{person['name']}: {person['age']}\")\n",
        "\n",
        "\n",
        "  people = [\n",
        "  {\"name\": \"Bob\", \"age\": 30},\n",
        "  {\"name\": \"Alice\", \"age\": 25},\n",
        "  {\"name\": \"Charlie\", \"age\": 35}\n",
        "]\n",
        "\n",
        "sorted_people = sorted(people, key=lambda person: person[\"name\"])\n",
        "print(\"People sorted by name:\")\n",
        "\n",
        "for person in sorted_people:\n",
        "  print(f\" {person['name']}: {person['age']}\")\n",
        "\n"
      ],
      "metadata": {
        "colab": {
          "base_uri": "https://localhost:8080/"
        },
        "id": "tqYcg8KhvKww",
        "outputId": "26cee461-81e4-42ad-d404-e7707c11638a"
      },
      "execution_count": null,
      "outputs": [
        {
          "output_type": "stream",
          "name": "stdout",
          "text": [
            "[0, 1, 0, 0, 0]\n",
            "Adult ages: [76, 83, 43]\n",
            "people sorted by names\n",
            "gagan: 16\n",
            "queen: 10\n",
            "rani: 18\n",
            "People sorted by name:\n",
            " Alice: 25\n",
            " Bob: 30\n",
            " Charlie: 35\n"
          ]
        }
      ]
    },
    {
      "cell_type": "markdown",
      "source": [
        "Filter and Map"
      ],
      "metadata": {
        "id": "nq44yMhb5Opo"
      }
    },
    {
      "cell_type": "code",
      "source": [
        "num =[1,2,3,4,5,6]\n",
        "print(list(filter(lambda x:x % 2 == 0 , num)))\n",
        "\n",
        "\n"
      ],
      "metadata": {
        "colab": {
          "base_uri": "https://localhost:8080/"
        },
        "id": "4NksVjz85Rs3",
        "outputId": "76de8a4d-c97c-476d-8d69-50f6151eb77a"
      },
      "execution_count": null,
      "outputs": [
        {
          "output_type": "stream",
          "name": "stdout",
          "text": [
            "[2, 4, 6]\n",
            "[1, 2, 3, 4, 5]\n"
          ]
        }
      ]
    },
    {
      "cell_type": "code",
      "source": [
        "import numpy as np\n",
        "\n",
        "data = [10, 12, 14, 16, 18]\n",
        "print(np.mean(data))"
      ],
      "metadata": {
        "colab": {
          "base_uri": "https://localhost:8080/"
        },
        "id": "okM3VtXaWqp5",
        "outputId": "302410d9-96c6-4589-8d44-42abf457275a"
      },
      "execution_count": null,
      "outputs": [
        {
          "output_type": "stream",
          "name": "stdout",
          "text": [
            "14.0\n"
          ]
        }
      ]
    }
  ]
}